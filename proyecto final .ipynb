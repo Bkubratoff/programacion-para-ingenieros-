{
 "cells": [
  {
   "cell_type": "code",
   "execution_count": 12,
   "id": "cbbedd14",
   "metadata": {},
   "outputs": [
    {
     "name": "stdout",
     "output_type": "stream",
     "text": [
      "el nombre de tu computador es:Britthas-MacBook-Air.local\n"
     ]
    }
   ],
   "source": [
    "import socket\n",
    "hostname = socket.gethostname() #obtener el nombre del host\n",
    "ip = socket.gethostbyname(hostname) #obtener direccion ip\n",
    "\n",
    "print(\"el nombre de tu computador es:\" + hostname)"
   ]
  },
  {
   "cell_type": "code",
   "execution_count": 19,
   "id": "5445fe21",
   "metadata": {},
   "outputs": [
    {
     "name": "stdout",
     "output_type": "stream",
     "text": [
      "tu direccion IP es: 192.168.0.23\n"
     ]
    }
   ],
   "source": [
    "print(\"tu direccion IP es: \" + ip)"
   ]
  },
  {
   "cell_type": "code",
   "execution_count": 31,
   "id": "24a5d316",
   "metadata": {},
   "outputs": [
    {
     "name": "stdout",
     "output_type": "stream",
     "text": [
      "inserte la direccion IP: 192.168.0.23\n",
      "escaneando objetivo: 192.168.0.23\n",
      "el puerto 88 esta abierto\n"
     ]
    }
   ],
   "source": [
    "import sys\n",
    "import socket \n",
    "\n",
    "objetivo = socket.gethostbyname(input(\"inserte la direccion IP: \"))\n",
    "print(\"escaneando objetivo: \" + objetivo)\n",
    "\n",
    "try:\n",
    "    for port in range (1, 150):\n",
    "        s = socket.socket(socket.AF_INET, socket.SOCK_STREAM)\n",
    "        socket.setdefaulttimeout(1)\n",
    "        resultado = s.connect_ex((objetivo, port))\n",
    "        if resultado == 0:\n",
    "            print(\"el puerto {} esta abierto\".format(port))\n",
    "            s.close()\n",
    "            \n",
    "except:\n",
    "    print(\"\\n saliendo...\")\n",
    "    sys.exit(0)"
   ]
  },
  {
   "cell_type": "code",
   "execution_count": 46,
   "id": "b10ab1f9",
   "metadata": {},
   "outputs": [
    {
     "name": "stdout",
     "output_type": "stream",
     "text": [
      "introduce el numero que quieres convertir en binario: 72\n",
      "1001000\n"
     ]
    }
   ],
   "source": [
    "def binario(decimal):\n",
    "    binario = \"\"\n",
    "    while decimal // 2 != 0:\n",
    "        binario = str(decimal % 2) + binario\n",
    "        decimal = decimal // 2\n",
    "    return str(decimal) + binario\n",
    "\n",
    "numero = int(input(\"introduce el numero que quieres convertir en binario: \"))\n",
    "print (binario(numero))"
   ]
  },
  {
   "cell_type": "code",
   "execution_count": null,
   "id": "893103d1",
   "metadata": {},
   "outputs": [],
   "source": []
  }
 ],
 "metadata": {
  "kernelspec": {
   "display_name": "Python 3",
   "language": "python",
   "name": "python3"
  },
  "language_info": {
   "codemirror_mode": {
    "name": "ipython",
    "version": 3
   },
   "file_extension": ".py",
   "mimetype": "text/x-python",
   "name": "python",
   "nbconvert_exporter": "python",
   "pygments_lexer": "ipython3",
   "version": "3.6.10"
  }
 },
 "nbformat": 4,
 "nbformat_minor": 5
}
