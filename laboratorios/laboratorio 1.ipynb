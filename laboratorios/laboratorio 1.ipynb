{
 "cells": [
  {
   "cell_type": "code",
   "execution_count": 1,
   "id": "efeb6564",
   "metadata": {},
   "outputs": [
    {
     "name": "stdout",
     "output_type": "stream",
     "text": [
      "194.87171000000012\n"
     ]
    }
   ],
   "source": [
    "interes=100*(1+0.10)**7\n",
    "print(interes)"
   ]
  },
  {
   "cell_type": "code",
   "execution_count": 3,
   "id": "7e2f59d7",
   "metadata": {},
   "outputs": [
    {
     "name": "stdout",
     "output_type": "stream",
     "text": [
      "100\n"
     ]
    }
   ],
   "source": [
    "ahorro=100\n",
    "print(ahorro)"
   ]
  },
  {
   "cell_type": "code",
   "execution_count": 5,
   "id": "df112ace",
   "metadata": {},
   "outputs": [
    {
     "name": "stdout",
     "output_type": "stream",
     "text": [
      "194.87171000000012\n"
     ]
    }
   ],
   "source": [
    "ahorro=100\n",
    "mult_anual=(1.1)\n",
    "result=ahorro*(mult_anual)**7\n",
    "print(result)"
   ]
  },
  {
   "cell_type": "code",
   "execution_count": 7,
   "id": "ebccd268",
   "metadata": {},
   "outputs": [
    {
     "name": "stdout",
     "output_type": "stream",
     "text": [
      "cadena de textos\n",
      "True\n"
     ]
    }
   ],
   "source": [
    "desc=str(\"cadena de textos\")\n",
    "print(desc)\n",
    "profit=bool(True)\n",
    "print(profit)"
   ]
  },
  {
   "cell_type": "code",
   "execution_count": 8,
   "id": "6a2af293",
   "metadata": {},
   "outputs": [
    {
     "name": "stdout",
     "output_type": "stream",
     "text": [
      "110.00000000000001\n",
      "<class 'float'>\n",
      "interes compuestointeres compuesto\n"
     ]
    }
   ],
   "source": [
    "ahorro=100\n",
    "mult=1.1\n",
    "desc='interes compuesto'\n",
    "año1=ahorro*(mult)\n",
    "print(año1)\n",
    "print(type(año1))\n",
    "dobledesc=desc+desc\n",
    "print(dobledesc)"
   ]
  },
  {
   "cell_type": "code",
   "execution_count": 11,
   "id": "48cd0c4b",
   "metadata": {},
   "outputs": [
    {
     "name": "stdout",
     "output_type": "stream",
     "text": [
      "empezamos con $100y ahora mismo tengo $194.87171000000012. Que bien!\n",
      "3.1415926\n",
      "<class 'float'>\n"
     ]
    }
   ],
   "source": [
    "ahorros=100\n",
    "resultado=100*1.1**7\n",
    "print(\"empezamos con $\"+ str(ahorro) + \"y ahora mismo tengo $\" + str(resultado) + \". Que bien!\")\n",
    "pi_string = \"3.1415926\"\n",
    "pi_float = float(pi_string)\n",
    "print(pi_float)\n",
    "print(type(pi_float))"
   ]
  },
  {
   "cell_type": "code",
   "execution_count": null,
   "id": "1b36249f",
   "metadata": {},
   "outputs": [],
   "source": []
  },
  {
   "cell_type": "code",
   "execution_count": null,
   "id": "f1564d4b",
   "metadata": {},
   "outputs": [],
   "source": []
  }
 ],
 "metadata": {
  "kernelspec": {
   "display_name": "Python 3",
   "language": "python",
   "name": "python3"
  },
  "language_info": {
   "codemirror_mode": {
    "name": "ipython",
    "version": 3
   },
   "file_extension": ".py",
   "mimetype": "text/x-python",
   "name": "python",
   "nbconvert_exporter": "python",
   "pygments_lexer": "ipython3",
   "version": "3.6.13"
  }
 },
 "nbformat": 4,
 "nbformat_minor": 5
}
